{
 "cells": [
  {
   "cell_type": "code",
   "execution_count": 34,
   "metadata": {},
   "outputs": [],
   "source": [
    "import pandas as pd\n",
    "import mysql.connector"
   ]
  },
  {
   "cell_type": "code",
   "execution_count": 35,
   "metadata": {},
   "outputs": [],
   "source": [
    "db_config = {\n",
    "    'user': 'root',\n",
    "    'password': 'Batman@2003',\n",
    "    'host': 'localhost',\n",
    "    'database': 'creadit_card_management_system'\n",
    "}"
   ]
  },
  {
   "cell_type": "code",
   "execution_count": 10,
   "metadata": {},
   "outputs": [],
   "source": [
    "conn = mysql.connector.connect(**db_config)\n",
    "cursor = conn.cursor()"
   ]
  },
  {
   "cell_type": "code",
   "execution_count": 4,
   "metadata": {},
   "outputs": [],
   "source": [
    "def load_and_insert(csv_file, table_name):\n",
    "    df = pd.read_csv(csv_file)\n",
    "    \n",
    "    columns = ', '.join(df.columns)\n",
    "    placeholders = ', '.join(['%s'] * len(df.columns))\n",
    "    sql = f'INSERT INTO {table_name} ({columns}) VALUES ({placeholders})'\n",
    "    \n",
    "    for row in df.itertuples(index=False, name=None):\n",
    "        cursor.execute(sql, tuple(row))\n",
    "        \n",
    "    conn.commit()"
   ]
  },
  {
   "cell_type": "code",
   "execution_count": 12,
   "metadata": {},
   "outputs": [],
   "source": [
    "load_and_insert('data/branch_dummy_data.csv', 'branch')\n",
    "load_and_insert('data/user_dummy_data.csv', 'user1')\n",
    "load_and_insert('data/credit_card_dummy_data.csv', 'credit_card')\n",
    "load_and_insert('data/limits_dummy_data.csv', 'limits')\n",
    "load_and_insert('data/application_dummy_data.csv', 'applications')\n",
    "\n",
    "cursor.close()\n",
    "conn.close()"
   ]
  },
  {
   "cell_type": "code",
   "execution_count": 36,
   "metadata": {},
   "outputs": [],
   "source": [
    "from mysql.connector import Error"
   ]
  },
  {
   "cell_type": "code",
   "execution_count": 37,
   "metadata": {},
   "outputs": [],
   "source": [
    "def create_connection():\n",
    "    try:\n",
    "        conn = mysql.connector.connect(**db_config)\n",
    "        \n",
    "        if(conn.is_connected()):\n",
    "            print(\"Successfully connected to the database!\")\n",
    "            return conn\n",
    "    except Error as e:\n",
    "        print(f'Error: {e}')\n",
    "        return None"
   ]
  },
  {
   "cell_type": "code",
   "execution_count": 38,
   "metadata": {},
   "outputs": [],
   "source": [
    "def read_users():\n",
    "    \"\"\"Retrieve all users from the USER1 table.\"\"\"\n",
    "    conn = create_connection()\n",
    "    if conn:\n",
    "        cursor = conn.cursor()\n",
    "        sql = \"SELECT * FROM USER1\"\n",
    "        try:\n",
    "            cursor.execute(sql)\n",
    "            result = cursor.fetchall()\n",
    "            for row in result:\n",
    "                print(row)\n",
    "        except Error as e:\n",
    "            print(f\"Error: {e}\")\n",
    "        finally:\n",
    "            cursor.close()\n",
    "            conn.close()"
   ]
  },
  {
   "cell_type": "code",
   "execution_count": 39,
   "metadata": {},
   "outputs": [],
   "source": [
    "def create_user(user_id, user_name, user_mob, user_mail, user_address, user_branch_id):\n",
    "    \n",
    "    conn = create_connection()\n",
    "    if conn:\n",
    "        cursor = conn.cursor()\n",
    "        sql = \"\"\"INSERT INTO USER1 (user_id, user_name, user_mob, user_mail, user_address, user_branch_id)\n",
    "                 VALUES (%s, %s, %s, %s, %s, %s)\"\"\"\n",
    "        data = (user_id, user_name, user_mob, user_mail, user_address, user_branch_id)\n",
    "        try:\n",
    "            cursor.execute(sql, data)\n",
    "            conn.commit()\n",
    "            print(f\"User {user_id} created successfully.\")\n",
    "        except Error as e:\n",
    "            print(f\"Error: {e}\")\n",
    "        finally:\n",
    "            cursor.close()\n",
    "            conn.close()"
   ]
  },
  {
   "cell_type": "code",
   "execution_count": 23,
   "metadata": {},
   "outputs": [
    {
     "name": "stdout",
     "output_type": "stream",
     "text": [
      "Successfully connected to the database!\n",
      "User 11 created successfully.\n"
     ]
    }
   ],
   "source": [
    "create_user(11, 'Debmalya Sen', 5550123456, 'ujjwalsen005@gmail.com', 'Sai Nagar Colony, St 19', 5)"
   ]
  },
  {
   "cell_type": "code",
   "execution_count": 40,
   "metadata": {},
   "outputs": [
    {
     "name": "stdout",
     "output_type": "stream",
     "text": [
      "Successfully connected to the database!\n"
     ]
    },
    {
     "data": {
      "text/plain": [
       "<mysql.connector.connection_cext.CMySQLConnection at 0x1375b1d30>"
      ]
     },
     "execution_count": 40,
     "metadata": {},
     "output_type": "execute_result"
    }
   ],
   "source": [
    "create_connection()"
   ]
  },
  {
   "cell_type": "code",
   "execution_count": 44,
   "metadata": {},
   "outputs": [
    {
     "name": "stdout",
     "output_type": "stream",
     "text": [
      "Successfully connected to the database!\n",
      "(1, 'John Doe', '5551234567', 'john.doe@example.com', '123 Elm St', 1)\n",
      "(2, 'Jane Smith', '5552345678', 'jane.smith@example.com', '456 Oak St', 2)\n",
      "(3, 'Emily Johnson', '5553456789', 'emily.johnson@example.com', '789 Pine St', 3)\n",
      "(4, 'Michael Brown', '5554567890', 'michael.brown@example.com', '101 Maple St', 4)\n",
      "(6, 'William Wilson', '5556789012', 'william.wilson@example.com', '303 Cedar St', 6)\n",
      "(7, 'Patricia Garcia', '5557890123', 'patricia.garcia@example.com', '404 Spruce St', 7)\n",
      "(8, 'James Anderson', '5558901234', 'james.anderson@example.com', '505 Walnut St', 8)\n",
      "(9, 'Linda Martinez', '5559012345', 'linda.martinez@example.com', '606 Redwood St', 9)\n",
      "(10, 'Robert Taylor', '5550123456', 'robert.taylor@example.com', '707 Willow St', 10)\n",
      "(11, 'Debmalya Sen', '5550123456', 'ujjwalsen005@gmail.com', 'Sai Nagar Colony, St 19', 5)\n"
     ]
    }
   ],
   "source": [
    "read_users()"
   ]
  },
  {
   "cell_type": "code",
   "execution_count": 42,
   "metadata": {},
   "outputs": [],
   "source": [
    "def delete_user(user_id):\n",
    "    conn = create_connection()\n",
    "    if conn:\n",
    "        cursor = conn.cursor()\n",
    "        sql = \"DELETE FROM USER1 WHERE user_id = %s\"\n",
    "        try:\n",
    "            cursor.execute(sql, (user_id,))\n",
    "            conn.commit()\n",
    "            print(f\"User {user_id} deleted successfully.\")\n",
    "        except Error as e:\n",
    "            print(f\"Error: {e}\")\n",
    "        finally:\n",
    "            cursor.close()\n",
    "            conn.close()"
   ]
  },
  {
   "cell_type": "code",
   "execution_count": 43,
   "metadata": {},
   "outputs": [
    {
     "name": "stdout",
     "output_type": "stream",
     "text": [
      "Successfully connected to the database!\n",
      "User 5 deleted successfully.\n"
     ]
    }
   ],
   "source": []
  },
  {
   "cell_type": "code",
   "execution_count": 30,
   "metadata": {},
   "outputs": [],
   "source": [
    "def find_user(search_criteria):\n",
    "    \"\"\"Find users based on the search criteria.\"\"\"\n",
    "    conn = create_connection()\n",
    "    if conn:\n",
    "        cursor = conn.cursor()\n",
    "        sql = \"SELECT * FROM USER1 WHERE\"\n",
    "        conditions = []\n",
    "        params = []\n",
    "        \n",
    "        if 'user_id' in search_criteria:\n",
    "            conditions.append(\"user_id = %s\")\n",
    "            params.append(search_criteria['user_id'])\n",
    "        if 'user_name' in search_criteria:\n",
    "            conditions.append(\"user_name LIKE %s\")\n",
    "            params.append(f\"%{search_criteria['user_name']}%\")\n",
    "        if 'user_mail' in search_criteria:\n",
    "            conditions.append(\"user_mail LIKE %s\")\n",
    "            params.append(f\"%{search_criteria['user_mail']}%\")\n",
    "        \n",
    "        if conditions:\n",
    "            sql += \" AND \".join(conditions)\n",
    "        \n",
    "        try:\n",
    "            cursor.execute(sql, params)\n",
    "            result = cursor.fetchall()\n",
    "            if result:\n",
    "                for row in result:\n",
    "                    print(row)\n",
    "            else:\n",
    "                print(\"No users found matching the criteria.\")\n",
    "        except Error as e:\n",
    "            print(f\"Error: {e}\")\n",
    "        finally:\n",
    "            cursor.close()\n",
    "            conn.close()"
   ]
  },
  {
   "cell_type": "code",
   "execution_count": 33,
   "metadata": {},
   "outputs": [
    {
     "name": "stdout",
     "output_type": "stream",
     "text": [
      "Successfully connected to the database!\n",
      "Error: 1064 (42000): You have an error in your SQL syntax; check the manual that corresponds to your MySQL server version for the right syntax to use near '= 11' at line 1\n"
     ]
    }
   ],
   "source": [
    "find_user({'user_id': 11})"
   ]
  },
  {
   "cell_type": "code",
   "execution_count": 13,
   "metadata": {},
   "outputs": [],
   "source": [
    "import credit_card_system as cd"
   ]
  },
  {
   "cell_type": "code",
   "execution_count": 14,
   "metadata": {},
   "outputs": [],
   "source": [
    "cd.connect_database('root', 'Batman@2003', 'localhost', 'creadit_card_management_systemm')"
   ]
  },
  {
   "cell_type": "code",
   "execution_count": 15,
   "metadata": {},
   "outputs": [],
   "source": [
    "cd.create_connection()"
   ]
  },
  {
   "cell_type": "code",
   "execution_count": 27,
   "metadata": {},
   "outputs": [],
   "source": [
    "cd.read_users()"
   ]
  },
  {
   "cell_type": "code",
   "execution_count": null,
   "metadata": {},
   "outputs": [],
   "source": []
  }
 ],
 "metadata": {
  "kernelspec": {
   "display_name": "Python 3",
   "language": "python",
   "name": "python3"
  },
  "language_info": {
   "codemirror_mode": {
    "name": "ipython",
    "version": 3
   },
   "file_extension": ".py",
   "mimetype": "text/x-python",
   "name": "python",
   "nbconvert_exporter": "python",
   "pygments_lexer": "ipython3",
   "version": "3.12.4"
  }
 },
 "nbformat": 4,
 "nbformat_minor": 2
}
